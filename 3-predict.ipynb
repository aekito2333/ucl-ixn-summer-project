{
 "cells": [
  {
   "cell_type": "markdown",
   "metadata": {},
   "source": [
    "### Use the code in this notebook to retrive the machine learning model from Azure Machine Learning Workspace\n",
    "### Forecast\n",
    "### Visualise the results"
   ]
  },
  {
   "cell_type": "code",
   "execution_count": 4,
   "metadata": {},
   "outputs": [
    {
     "name": "stdout",
     "output_type": "stream",
     "text": [
      "SDK version: 1.0.57\n"
     ]
    }
   ],
   "source": [
    "'''Don't change the code in here'''\n",
    "\n",
    "# import library \n",
    "import os\n",
    "import math\n",
    "import pandas as pd\n",
    "import numpy as np\n",
    "import matplotlib.pyplot as plt\n",
    "%matplotlib inline \n",
    "\n",
    "# import machine learning library \n",
    "from azureml.core import Experiment, Run, Workspace\n",
    "import azureml.core\n",
    "from sklearn.model_selection import train_test_split\n",
    "from sklearn.metrics import accuracy_score\n",
    "from sklearn.externals import joblib\n",
    "\n",
    "# Check core SDK version number\n",
    "print(\"SDK version:\", azureml.core.VERSION)"
   ]
  },
  {
   "cell_type": "markdown",
   "metadata": {},
   "source": [
    "### <font color='red'>Fill in details in the cell below as instructed</font>"
   ]
  },
  {
   "cell_type": "code",
   "execution_count": 5,
   "metadata": {},
   "outputs": [],
   "source": [
    "# connect to Azure Machine Learning Workspace\n",
    "subscription_id = ''\n",
    "resource_group  = ''\n",
    "workspace_name  = ''"
   ]
  },
  {
   "cell_type": "code",
   "execution_count": 6,
   "metadata": {},
   "outputs": [
    {
     "name": "stdout",
     "output_type": "stream",
     "text": [
      "Library configuration succeeded\n"
     ]
    }
   ],
   "source": [
    "'''Don't change the code in here'''\n",
    "\n",
    "try:\n",
    "    ws = Workspace(subscription_id = subscription_id, resource_group = resource_group, workspace_name = workspace_name)\n",
    "    ws.write_config()\n",
    "    print('Library configuration succeeded')\n",
    "except:\n",
    "    print('Workspace not found')"
   ]
  },
  {
   "cell_type": "code",
   "execution_count": 7,
   "metadata": {},
   "outputs": [],
   "source": [
    "'''Don't change the code in here'''\n",
    "\n",
    "# write a function that finds the best model from ws and downloads it\n",
    "def find_best_model(run_name, ws):\n",
    "    # import library\n",
    "    from azureml.core.experiment import Experiment\n",
    "    from tqdm import tqdm\n",
    "    import pandas as pd\n",
    "\n",
    "    # write a functiont that finds the experiment with the matching name\n",
    "    def find_expr():\n",
    "        expr = None\n",
    "        for e in Experiment.list(ws):\n",
    "            if run_name in e.name:\n",
    "                expr = e                  \n",
    "        return expr   \n",
    "    \n",
    "    # write a function for getting the model filename\n",
    "    def get_model_filename():\n",
    "        modelfilename = None\n",
    "        for f in bestrun.get_file_names():\n",
    "            if(f[-4:] == '.pkl'):\n",
    "                modelfilename = f\n",
    "        return modelfilename\n",
    "    \n",
    "    runs = {}\n",
    "    run_metrics = {}\n",
    "    runsorder = {}\n",
    "    i=0\n",
    "    expr = find_expr()\n",
    "    \n",
    "    # if found experiment with matching name, get the lastest run\n",
    "    if expr != None:\n",
    "        r = expr.get_runs().__next__()\n",
    "        print(r,'\\n')\n",
    "        metrics = r.get_metrics()\n",
    "        for s in tqdm(r.get_children()):\n",
    "            metrics = s.get_metrics()\n",
    "            if 'normalized_root_mean_squared_error' in metrics.keys():\n",
    "                i=i+1\n",
    "                runs[s.id] = s\n",
    "                run_metrics[s.id] = metrics\n",
    "\n",
    "        best_run_id = min(run_metrics, key = lambda k : run_metrics[k]['root_mean_squared_error'])\n",
    "        bestrun = runs[best_run_id]\n",
    "        modelfilename = get_model_filename()\n",
    "        if modelfilename != None:\n",
    "            # Download the model\n",
    "            modelname = 'm_'+ run_name\n",
    "            modelload = bestrun.register_model(model_name=modelname, model_path=modelfilename)\n",
    "            model = modelload.download(exist_ok = True) \n",
    "            print('model download complete!\\n') \n",
    "            \n",
    "            model_metrics = run_metrics[best_run_id]\n",
    "            print('\\nmodel metrics:\\n')\n",
    "            print('mean_absolute_error: ', model_metrics['mean_absolute_error'])\n",
    "            print('mean_absolute_percentage_error: ', model_metrics['mean_absolute_percentage_error'])\n",
    "            print('normalized_root_mean_squared_error: ', model_metrics['normalized_root_mean_squared_error'])\n",
    "            print('\\n')\n",
    "            return(model, model_metrics)\n",
    "        else:\n",
    "            print('get_model_filename() returned None!')\n",
    "            return None\n",
    "    \n",
    "    # if found experiment with matching name, get the lastest run\n",
    "    else:\n",
    "        print('no experiment of matching name: '+run_name+ '  is found!')\n",
    "        return None\n",
    "    "
   ]
  },
  {
   "cell_type": "code",
   "execution_count": 8,
   "metadata": {},
   "outputs": [],
   "source": [
    "'''Don't change the code in here'''\n",
    "\n",
    "# write a function that loads the model and makes forecasts\n",
    "def load_best_model(model, future_date):\n",
    "    # Load the model\n",
    "    import pickle\n",
    "    import azureml\n",
    "    import azureml.train.automl\n",
    "    \n",
    "    model = pickle.load(open(model, 'rb'))\n",
    "    \n",
    "    from datetime import datetime\n",
    "    from dateutil import parser\n",
    "\n",
    "    result = model.forecast(forecast_destination = np.datetime64(parser.parse(future_date))) # example format: \"27 May 2021\"\n",
    "    resultdf = result[1]\n",
    "\n",
    "    dfresfinal = pd.DataFrame(list(resultdf.iloc[:,0].index.values))\n",
    "    dfresfinal.columns = ['date', 'description']\n",
    "    dfresfinal['quantity'] = pd.DataFrame(resultdf['_automl_target_col'].values)\n",
    "    \n",
    "    dfResults = dfresfinal\n",
    "    dfResults.drop(columns = ['description'], inplace=True)\n",
    "    # Sort the results in case we are not already sorted    \n",
    "    dfResults.sort_values(by=['date'], inplace=True)\n",
    "    \n",
    "    return dfResults\n",
    " \n",
    "\n",
    "# write a function that process test data, used in comparison and plotting later\n",
    "def process_test_data(modelname):\n",
    "    df = pd.read_csv('export_concat_df.csv')\n",
    "    \n",
    "    # write a function that lists all the items in concat_df\n",
    "    def list_items():\n",
    "        items = df.description.unique().tolist()\n",
    "        return items\n",
    "     \n",
    "    # retrive index number from model number\n",
    "    try:\n",
    "        items = list_items()\n",
    "        if modelname[-6]!='-':\n",
    "            index = int(modelname[-6:-4])\n",
    "        else:\n",
    "            index = int(modelname[-5:-4])\n",
    "        description = modelname[-3:]\n",
    "        \n",
    "        # filter concat_df by matching index and description\n",
    "        if items[index-1][0:3] == description:\n",
    "            filter_df = df.loc[df['description'] == items[index-1]]\n",
    "            filter_df.drop(columns = ['description'], inplace = True)\n",
    "            filter_df.reset_index(inplace = True)\n",
    "            filter_df.drop(columns = ['index'], inplace = True)\n",
    "            filter_df['date'] = pd.to_datetime(filter_df['date'])\n",
    "            return(filter_df)\n",
    "        \n",
    "        else:\n",
    "            print('mismatching model to data, please check that export_concat_df is also the dataframe used for model training')\n",
    "            return(None)\n",
    "    \n",
    "    except ValueError:\n",
    "        print('model name is incorrect!')\n",
    "        return(None)\n",
    "        \n",
    "        \n",
    "# write a function that generates a fan chart for given data\n",
    "def plot_fan_chart(filter_df, df_results, mean_abs_error):\n",
    "    x = df_results['date'].tolist()\n",
    "    y = df_results['quantity'].tolist()\n",
    "    scale = [a for a in range(0,len(x))]    \n",
    "    mean_abs_error_list = [mean_abs_error*i*0.25 for i in scale]\n",
    "    #fig, ax = plt.subplots()\n",
    "    fig = plt.figure(figsize = (10,6))\n",
    "    ax = fig.add_subplot(111)\n",
    "    y_above = [y[i]+mean_abs_error_list[i] for i in range(0,len(y))]\n",
    "    y_below = [y[i]-mean_abs_error_list[i] for i in range(0,len(y))]\n",
    "    \n",
    "    ax.fill_between(x, y_above, y_below, color='pink', label='25% of mean_absolute_error') # Plot interval\n",
    "    ax.plot(x, y, color='red', label='Predict') # Plot the original signal\n",
    "    ax.plot(filter_df['date'],filter_df['quantity'], label='True')\n",
    "    plt.legend(loc=2)\n",
    "    plt.ylim(bottom = 0)\n",
    "    plt.show()\n",
    "       \n",
    "        \n",
    "# write a function that loads the true data and compares\n",
    "def compare_true_predict(modelname, model, future_date, mean_abs_error):\n",
    "    \n",
    "    # turn off data conversion warning\n",
    "    import warnings\n",
    "    from sklearn.exceptions import DataConversionWarning\n",
    "    warnings.filterwarnings(action='ignore', category=DataConversionWarning)\n",
    "    \n",
    "    filter_df = process_test_data(modelname)\n",
    "    df_results = load_best_model(model, future_date)\n",
    "    print('Predictions from '+ modelname + ' :\\n', df_results)\n",
    "    \n",
    "    plot_fan_chart(filter_df, df_results, mean_abs_error)   \n",
    "    "
   ]
  },
  {
   "cell_type": "markdown",
   "metadata": {},
   "source": [
    "### Run the function below to check the list of trained models"
   ]
  },
  {
   "cell_type": "code",
   "execution_count": 9,
   "metadata": {},
   "outputs": [
    {
     "name": "stdout",
     "output_type": "stream",
     "text": [
      "['testrun1-1-5X1', 'testrun1-10-TUB', 'testrun1-11-eas', 'testrun1-2-Buf', 'testrun1-3-Buf', 'testrun1-4-Buf', 'testrun1-5-CON', 'testrun1-6-Dis', 'testrun1-7-Lys', 'testrun1-8-MIC', 'testrun1-9-MIC', 'testrun2-1-5X1', 'testrun2-10-TUB', 'testrun2-11-eas', 'testrun2-2-Buf', 'testrun2-3-Buf', 'testrun2-4-Buf', 'testrun2-5-CON', 'testrun2-6-Dis', 'testrun2-7-Lys', 'testrun2-8-MIC', 'testrun2-9-MIC', 'testrun3-1-5X1', 'testrun3-10-TUB', 'testrun3-11-eas', 'testrun3-2-Buf', 'testrun3-3-Buf', 'testrun3-4-Buf', 'testrun3-5-CON', 'testrun3-6-Dis', 'testrun3-7-Lys', 'testrun3-8-MIC', 'testrun3-9-MIC']\n"
     ]
    }
   ],
   "source": [
    "'''Don't change the code in here'''\n",
    "\n",
    "trained_models = []\n",
    "for e in Experiment.list(ws):\n",
    "    trained_models.append(str(e.name))\n",
    "trained_models.sort()\n",
    "print(trained_models)"
   ]
  },
  {
   "cell_type": "markdown",
   "metadata": {},
   "source": [
    "### <font color='red'>Change the</font> <font color='orange'>run_name</font>  to select a different model\n",
    "### Select model name from the list above\n",
    "### <font color='red'>Change the</font> <font color='orange'> future_date </font>to forecast"
   ]
  },
  {
   "cell_type": "code",
   "execution_count": 12,
   "metadata": {},
   "outputs": [],
   "source": [
    "# use this funtion to produce predictions\n",
    "# and to get a plot for the prediction\n",
    "\n",
    "run_name = 'testrun2-4-Buf' # change the run name here\n",
    "future_date = '30 September 2019' # example format '30 September 2019' "
   ]
  },
  {
   "cell_type": "markdown",
   "metadata": {},
   "source": [
    "### Run the function below to make prediction and plot"
   ]
  },
  {
   "cell_type": "code",
   "execution_count": 13,
   "metadata": {},
   "outputs": [
    {
     "name": "stdout",
     "output_type": "stream",
     "text": [
      "Run(Experiment: testrun2-4-Buf,\n",
      "Id: AutoML_f6002fb7-ba94-4810-9aa1-35147b873ed1,\n",
      "Type: automl,\n",
      "Status: Completed) \n",
      "\n"
     ]
    },
    {
     "name": "stderr",
     "output_type": "stream",
     "text": [
      "25it [00:06,  3.75it/s]\n"
     ]
    },
    {
     "name": "stdout",
     "output_type": "stream",
     "text": [
      "model download complete!\n",
      "\n",
      "\n",
      "model metrics:\n",
      "\n",
      "mean_absolute_error:  1.8800000000000001\n",
      "mean_absolute_percentage_error:  31.66666666666667\n",
      "normalized_root_mean_squared_error:  0.31333333333333335\n",
      "\n",
      "\n",
      "Predictions from testrun2-4-Buf :\n",
      "                   date  quantity\n",
      "0  2018-12-28 03:30:00      0.00\n",
      "1  2019-01-16 03:00:00      0.50\n",
      "2  2019-02-04 02:30:00      2.40\n",
      "3  2019-02-23 02:00:00      1.80\n",
      "4  2019-03-14 01:30:00      3.00\n",
      "5  2019-04-02 01:00:00      1.60\n",
      "6  2019-04-21 00:30:00      1.20\n",
      "7  2019-05-10 00:00:00      1.20\n",
      "8  2019-05-28 23:30:00      1.20\n",
      "9  2019-06-16 23:00:00      0.00\n",
      "10 2019-07-05 22:30:00      0.60\n",
      "11 2019-07-24 22:00:00      0.00\n",
      "12 2019-08-12 21:30:00      0.00\n",
      "13 2019-08-31 21:00:00      0.60\n",
      "14 2019-09-19 20:30:00      0.00\n"
     ]
    },
    {
     "data": {
      "image/png": "[encoded data removed]",
      "text/plain": [
       "<Figure size 720x432 with 1 Axes>"
      ]
     },
     "metadata": {
      "needs_background": "light"
     },
     "output_type": "display_data"
    }
   ],
   "source": [
    "'''Don't change the code in here'''\n",
    "best_model, model_metrics = find_best_model(run_name, ws) \n",
    "compare_true_predict(run_name , best_model, future_date, mean_abs_error = model_metrics['mean_absolute_error'])"
   ]
  },
  {
   "cell_type": "code",
   "execution_count": 66,
   "metadata": {},
   "outputs": [],
   "source": [
    "# This for loop runs all models in Azure workspace\n",
    "\n",
    "# for i in trained_models:\n",
    "#     run_name = i\n",
    "#     best_model, model_metrics = find_best_model(run_name, ws) \n",
    "#     compare_true_predict(run_name , best_model, future_date, mean_abs_error = model_metrics['mean_absolute_error'])"
   ]
  }
 ],
 "metadata": {
  "kernelspec": {
   "display_name": "Python 3",
   "language": "python",
   "name": "python3"
  },
  "language_info": {
   "codemirror_mode": {
    "name": "ipython",
    "version": 3
   },
   "file_extension": ".py",
   "mimetype": "text/x-python",
   "name": "python",
   "nbconvert_exporter": "python",
   "pygments_lexer": "ipython3",
   "version": "3.7.3"
  }
 },
 "nbformat": 4,
 "nbformat_minor": 2
}
