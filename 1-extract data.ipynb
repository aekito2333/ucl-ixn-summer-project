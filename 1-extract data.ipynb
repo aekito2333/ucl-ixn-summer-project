{
 "cells": [
  {
   "cell_type": "markdown",
   "metadata": {},
   "source": [
    "### The code below are used for extracting information from excel order sheets\n",
    "### File extension is .xlsx\n",
    "\n",
    "### Please make sure all the information entered in the order sheets follow their correct format\n",
    "### E.g. dates are in the format dd/mm/yyyy"
   ]
  },
  {
   "cell_type": "code",
   "execution_count": 1,
   "metadata": {},
   "outputs": [],
   "source": [
    "'''Don't change the code in here'''\n",
    "\n",
    "# import library \n",
    "import os\n",
    "import math\n",
    "import pandas as pd\n",
    "import numpy as np\n",
    "import matplotlib.pyplot as plt\n",
    "import matplotlib\n",
    "%matplotlib inline "
   ]
  },
  {
   "cell_type": "markdown",
   "metadata": {},
   "source": [
    "### <font color='red'>Fill in details in the cell below as instructed</font>"
   ]
  },
  {
   "cell_type": "code",
   "execution_count": 2,
   "metadata": {},
   "outputs": [],
   "source": [
    "# connect to Azure database\n",
    "import pyodbc\n",
    "server = '' # the server of your database\n",
    "database = '' # the name of your database\n",
    "username = '' # the user name of your database\n",
    "password = '' # password for your user\n",
    "driver= '{ODBC Driver 17 for SQL Server}' #don't change this"
   ]
  },
  {
   "cell_type": "markdown",
   "metadata": {},
   "source": [
    "### This notebook lives in the same directory as the .xlsx files\n",
    "\n",
    "### This function will find all the order froms in the current directory, extract the information and upload them to the database on Azure.\n",
    "### This function should be run only once and may take some time depending on the number of .xlsx files in the folder.\n",
    "###  Please make sure all excel files are closed while running this notebook"
   ]
  },
  {
   "cell_type": "code",
   "execution_count": 3,
   "metadata": {},
   "outputs": [
    {
     "name": "stdout",
     "output_type": "stream",
     "text": [
      "external order form:  ['External demo.xlsx']\n",
      "internal order form:  []\n",
      "Roche order form:  []\n"
     ]
    }
   ],
   "source": [
    "'''Don't change the code in here'''\n",
    "\n",
    "path = os.getcwd() # get current directory\n",
    "files = os.listdir(path)\n",
    "files_xlsx = [f for f in files if f[-4:] == 'xlsx'] # list all .xlsx files in the directory \n",
    "\n",
    "# filter out the different kind of order forms: External, Internal, Roche \n",
    "external_list=[]\n",
    "internal_list=[]\n",
    "roche_list=[]\n",
    "\n",
    "try:\n",
    "    for i in files_xlsx:\n",
    "        if i.find('External')!=-1:\n",
    "            external_list.append(i)\n",
    "        elif i.find('Internal')!=-1:\n",
    "            internal_list.append(i)\n",
    "        elif i.find('Roche')!=-1:\n",
    "            roche_list.append(i)\n",
    "        else:\n",
    "            raise Exception\n",
    "    print('external order form: ', external_list)\n",
    "    print('internal order form: ', internal_list)\n",
    "    print('Roche order form: ', roche_list)    \n",
    "except Exception:\n",
    "    print('Error, unexpected .xlsx file found in the folder! \"{}\"'.format(i))\n",
    "\n",
    "    \n",
    "# extract information from external order form\n",
    "def extract_external(file_name_list):\n",
    "    \n",
    "    # get path of current directory\n",
    "    path = os.getcwd()    \n",
    "    # store information in list\n",
    "    form = []\n",
    "    #interate through the list of external forms\n",
    "    for i in file_name_list:\n",
    "        df = pd.read_excel(os.path.join(path, i))\n",
    "        size = df.shape\n",
    "        for j in range(15, size[0]): # iterate through multiple rows in one form\n",
    "            row_single_order = [str(df.iat[4,1]), str(df.iat[2,1]), str(df.iat[j,0]), \n",
    "                                str(df.iat[3,1]), str(df.iat[j,3]), str(df.iat[j,2]), str(df.iat[j,1]), \n",
    "                                str(df.iat[j,4]), str(df.iat[1,1]), str(df.iat[6,1])]                       \n",
    "            form.append(row_single_order) \n",
    "    return form\n",
    "\n",
    "\n",
    "# extract information from internal order form\n",
    "def extract_internal(file_name_list):\n",
    "    \n",
    "    # get path of current directory\n",
    "    path = os.getcwd()    \n",
    "    #init empty lists to hold information \n",
    "    form = []    \n",
    "    #interate through the list of internal forms\n",
    "    for i in file_name_list:\n",
    "        df = pd.read_excel(os.path.join(path, i))\n",
    "        size = df.shape        \n",
    "        for j in range(9, size[0]):            \n",
    "            if math.isnan(df.iat[j,9]) == False: # filter out empty rows\n",
    "                row_single_order = [str(df.iat[1,2]), str(int(df.iat[0,6])), str(df.iat[j,1]), str(i[-13:-5]), \n",
    "                                    str(df.iat[j,3])+' '+str(df.iat[j,8]), str(df.iat[j,9]),\n",
    "                                    str(df.iat[j,2]), 'NA', str(df.iat[0,2]), 'Internal']\n",
    "                form.append(row_single_order) \n",
    "    return form\n",
    "\n",
    "\n",
    "# extract information from Roche order form\n",
    "def extract_roche(file_name_list):\n",
    "    \n",
    "    # get path of current directory\n",
    "    path = os.getcwd()    \n",
    "    #init empty lists to hold information \n",
    "    form = []    \n",
    "    #interate through the list of Roche forms\n",
    "    for i in file_name_list:\n",
    "        df = pd.read_excel(os.path.join(path, i))\n",
    "        size = df.shape        \n",
    "        for j in range(11, size[0]):            \n",
    "            if math.isnan(df.iat[j,2]) == False: # filter out empty rows\n",
    "                row_single_order = [str(df.iat[4,1]), str(df.iat[2,1]), str(df.iat[j,0]), \n",
    "                                    str(df.iat[3,1]), str(df.iat[j,3]), str(df.iat[j,2]), str(df.iat[j,1]),\n",
    "                                    str(df.iat[j,4]), str(df.iat[1,1]), 'Roche']\n",
    "                form.append(row_single_order)\n",
    "    return form"
   ]
  },
  {
   "cell_type": "markdown",
   "metadata": {},
   "source": [
    "### The cell below to extract information"
   ]
  },
  {
   "cell_type": "code",
   "execution_count": 4,
   "metadata": {},
   "outputs": [
    {
     "name": "stdout",
     "output_type": "stream",
     "text": [
      "['3B29', '76239', '(Kits) K.KH.KHA. (Molecular Reagents) 41130', '2019-12-31 00:00:00', 'demo', '5', '6430112001', '0.2019', 'xy', 'nan']\n"
     ]
    }
   ],
   "source": [
    "'''Don't change the code in here'''\n",
    "\n",
    "# run the functions to extract the information \n",
    "all_update_values = extract_external(external_list) + extract_internal(internal_list) + extract_roche(roche_list)\n",
    "\n",
    "# you can print and check the rows are correct before uploading to database\n",
    "for i in all_update_values:\n",
    "    print(i)"
   ]
  },
  {
   "cell_type": "markdown",
   "metadata": {},
   "source": [
    "### The cell below to upload extracted information to database\n",
    "### <font color='red'>Please check</font>  the lists of order forms match expectation before running the cell below\n",
    "### Upload to database is currently irreversible, however code could be implemented to allow deletion "
   ]
  },
  {
   "cell_type": "code",
   "execution_count": null,
   "metadata": {},
   "outputs": [],
   "source": [
    "'''Don't change the code in here'''\n",
    "\n",
    "# upload this information to database by using cursor\n",
    "cnxn = pyodbc.connect('DRIVER='+driver+';SERVER='+server+';PORT=1433;DATABASE='+database+';UID='+username+';PWD='+ password)\n",
    "cursor = cnxn.cursor()\n",
    "\n",
    "# define insert query \n",
    "insert_query = '''INSERT INTO combined_date_formated_dataframe (deliverary_room, extension_no, \n",
    "                  order_NSV_category, order_date, order_description_and_pack_size, \n",
    "                  order_quantity, order_supplier_product_code, order_unit_cost, requester_names, supplier_name)\n",
    "                  VALUES (?,?,?,?,?,?,?,?,?,?);'''\n",
    "for row in all_update_values:\n",
    "    values = tuple(row)\n",
    "    cursor.execute(insert_query, values)\n",
    "\n",
    "# commit the change\n",
    "cnxn.commit()\n",
    "\n",
    "# close the connection and remove the cursor\n",
    "cursor.close()\n",
    "cnxn.close()"
   ]
  },
  {
   "cell_type": "markdown",
   "metadata": {},
   "source": [
    "### The cell below to export the database to csv"
   ]
  },
  {
   "cell_type": "code",
   "execution_count": null,
   "metadata": {},
   "outputs": [],
   "source": [
    "'''Don't change the code in here'''\n",
    "\n",
    "# export to csv (optional)\n",
    "import sys\n",
    "import csv\n",
    "\n",
    "export_query='SELECT * FROM combined_date_formated_dataframe;'\n",
    "cnxn = pyodbc.connect('DRIVER='+driver+';SERVER='+server+';PORT=1433;DATABASE='+database+';UID='+username+';PWD='+ password)\n",
    "cursor = cnxn.cursor()\n",
    "cursor.execute(export_query)\n",
    "result=cursor.fetchall()\n",
    "column_title = ('deliverary_room', 'extension_no', \n",
    "                'order_NSV_category', 'order_date', 'order_description_and_pack_size', \n",
    "                'order_quantity', 'order_supplier_product_code', 'order_unit_cost', \n",
    "                'requester_names', 'supplier_name')"
   ]
  },
  {
   "cell_type": "markdown",
   "metadata": {},
   "source": [
    "### <font color='red'>Change</font> the file name here to aviod overwriting exsiting file"
   ]
  },
  {
   "cell_type": "code",
   "execution_count": null,
   "metadata": {},
   "outputs": [],
   "source": [
    "file_name = '.csv' # file name must end in .csv\n",
    "c = csv.writer(open(file_name, 'w', newline='')) "
   ]
  },
  {
   "cell_type": "code",
   "execution_count": null,
   "metadata": {},
   "outputs": [],
   "source": [
    "'''Don't change the code in here'''\n",
    "\n",
    "c.writerow(column_title)\n",
    "for x in result:\n",
    "    c.writerow(x)\n",
    "\n",
    "# close the connection and remove the cursor\n",
    "cursor.close()\n",
    "cnxn.close()"
   ]
  },
  {
   "cell_type": "markdown",
   "metadata": {},
   "source": [
    "### You can check the updated database content in the csv file"
   ]
  }
 ],
 "metadata": {
  "kernelspec": {
   "display_name": "Python 3",
   "language": "python",
   "name": "python3"
  },
  "language_info": {
   "codemirror_mode": {
    "name": "ipython",
    "version": 3
   },
   "file_extension": ".py",
   "mimetype": "text/x-python",
   "name": "python",
   "nbconvert_exporter": "python",
   "pygments_lexer": "ipython3",
   "version": "3.7.3"
  }
 },
 "nbformat": 4,
 "nbformat_minor": 2
}
